{
 "cells": [
  {
   "cell_type": "code",
   "execution_count": 17,
   "id": "0f10ad11",
   "metadata": {},
   "outputs": [],
   "source": [
    "from document_preprocessor import RegexTokenizer\n",
    "from indexing import Indexer, IndexType\n",
    "from ranker import *\n",
    "import pandas as pd\n",
    "from tqdm import tqdm\n",
    "from relevance import *\n",
    "from collections import defaultdict\n",
    "import csv\n",
    "import gzip\n",
    "import jsonlines\n",
    "import json\n",
    "from collections import defaultdict\n",
    "import os\n",
    "from tqdm import tqdm\n",
    "from doc_augmentor import *\n",
    "import numpy as np"
   ]
  },
  {
   "cell_type": "code",
   "execution_count": 32,
   "id": "ed810748",
   "metadata": {},
   "outputs": [
    {
     "name": "stderr",
     "output_type": "stream",
     "text": [
      "100000it [00:05, 19002.14it/s]\n"
     ]
    }
   ],
   "source": [
    "# 1minute:4 secs\n",
    "from indexing import BasicInvertedIndex, Indexer, IndexType\n",
    "from document_preprocessor import RegexTokenizer\n",
    "from ranker import BM25, Ranker\n",
    "\n",
    "\n",
    "with open('data/stopwords.txt', 'r') as f:\n",
    "    stopwords = set(f.read().splitlines())\n",
    "#DATASET_PATH = 'data/documents_full_contents.jsonl'\n",
    "DATASET_PATH = 'data/augmented_data_100K.jsonl'\n",
    "\n",
    "# docid_to_network_features = {}\n",
    "max_docs= 100000\n",
    "\n",
    "document_index=Indexer.create_index(\n",
    "            IndexType.BasicInvertedIndex, DATASET_PATH , RegexTokenizer('\\w+'),\n",
    "            stopwords, 1, text_key='augmented_text', max_docs=max_docs\n",
    "        )\n",
    "\n",
    "\n",
    "\n"
   ]
  },
  {
   "cell_type": "code",
   "execution_count": null,
   "id": "b22332a5",
   "metadata": {},
   "outputs": [],
   "source": []
  },
  {
   "cell_type": "code",
   "execution_count": 33,
   "id": "05b02d4e-8371-40a8-a3c4-6390cd49a9ed",
   "metadata": {},
   "outputs": [],
   "source": [
    "document_preprocessor = RegexTokenizer() \n",
    "scorer = BM25(document_index)\n",
    "\n",
    "ranker = Ranker(\n",
    "    index=document_index,\n",
    "    document_preprocessor=document_preprocessor,\n",
    "    stopwords=stopwords,\n",
    "    scorer=scorer,\n",
    "   \n",
    ")"
   ]
  },
  {
   "cell_type": "code",
   "execution_count": 34,
   "id": "230cb9ab-75c8-4a4b-8d47-332fb97d1b8b",
   "metadata": {},
   "outputs": [
    {
     "data": {
      "text/plain": [
       "58843"
      ]
     },
     "execution_count": 34,
     "metadata": {},
     "output_type": "execute_result"
    }
   ],
   "source": [
    "len(document_index.index.keys())"
   ]
  },
  {
   "cell_type": "code",
   "execution_count": 35,
   "id": "d8b1f2d2",
   "metadata": {},
   "outputs": [],
   "source": [
    "relevance_data_filename = 'data/650 Project BM25 Relevance Annotations - BM25_baseline_output.csv'\n",
    "\n",
    "scores = run_relevance_tests(relevance_data_filename, ranker)"
   ]
  },
  {
   "cell_type": "code",
   "execution_count": 36,
   "id": "ae00f196-1e65-4200-968b-1269f992cba3",
   "metadata": {},
   "outputs": [
    {
     "name": "stdout",
     "output_type": "stream",
     "text": [
      "Average MAP Score: 0.0000\n",
      "Average NDCG Score: 0.9996\n"
     ]
    }
   ],
   "source": [
    "print(f\"Average MAP Score: {scores['map']:.4f}\")\n",
    "print(f\"Average NDCG Score: {scores['ndcg']:.4f}\")\n"
   ]
  },
  {
   "cell_type": "code",
   "execution_count": 38,
   "id": "29682ab3",
   "metadata": {},
   "outputs": [],
   "source": [
    "relevance_data_filename = 'data/12_2_BM25_baseline_output_rel_score.csv'\n",
    "\n",
    "scores = run_relevance_tests(relevance_data_filename, ranker)"
   ]
  },
  {
   "cell_type": "code",
   "execution_count": 39,
   "id": "97039101",
   "metadata": {},
   "outputs": [
    {
     "name": "stdout",
     "output_type": "stream",
     "text": [
      "Average MAP Score: 0.1404\n",
      "Average NDCG Score: 0.9947\n"
     ]
    }
   ],
   "source": [
    "print(f\"Average MAP Score: {scores['map']:.4f}\")\n",
    "print(f\"Average NDCG Score: {scores['ndcg']:.4f}\")"
   ]
  },
  {
   "cell_type": "code",
   "execution_count": 41,
   "id": "966489e9-19b2-4f6b-97e7-0232ca778d25",
   "metadata": {},
   "outputs": [],
   "source": [
    "\n",
    "relevance_data_filename = 'data/Rahat_BM25.xlsx - merged_BM25.csv'\n",
    "\n",
    "scores = run_relevance_tests(relevance_data_filename, ranker)"
   ]
  },
  {
   "cell_type": "code",
   "execution_count": 42,
   "id": "dae5a272-bff0-4bf8-bfa4-88ac08a91646",
   "metadata": {},
   "outputs": [
    {
     "name": "stdout",
     "output_type": "stream",
     "text": [
      "Average MAP Score: 0.6751\n",
      "Average NDCG Score: 0.8639\n"
     ]
    }
   ],
   "source": [
    "print(f\"Average MAP Score: {scores['map']:.4f}\")\n",
    "print(f\"Average NDCG Score: {scores['ndcg']:.4f}\")"
   ]
  },
  {
   "cell_type": "code",
   "execution_count": 46,
   "id": "74d4bb1b-b914-49b4-a89d-ef20a16d3462",
   "metadata": {},
   "outputs": [],
   "source": [
    "rel_df1 = pd.read_csv('data/650 Project BM25 Relevance Annotations - BM25_baseline_output.csv')"
   ]
  },
  {
   "cell_type": "code",
   "execution_count": 47,
   "id": "87aa48e5-6623-42ae-9e82-35ce03a3746b",
   "metadata": {},
   "outputs": [
    {
     "data": {
      "text/html": [
       "<div>\n",
       "<style scoped>\n",
       "    .dataframe tbody tr th:only-of-type {\n",
       "        vertical-align: middle;\n",
       "    }\n",
       "\n",
       "    .dataframe tbody tr th {\n",
       "        vertical-align: top;\n",
       "    }\n",
       "\n",
       "    .dataframe thead th {\n",
       "        text-align: right;\n",
       "    }\n",
       "</style>\n",
       "<table border=\"1\" class=\"dataframe\">\n",
       "  <thead>\n",
       "    <tr style=\"text-align: right;\">\n",
       "      <th></th>\n",
       "      <th>docid</th>\n",
       "      <th>query</th>\n",
       "      <th>query_used</th>\n",
       "      <th>rel</th>\n",
       "    </tr>\n",
       "  </thead>\n",
       "  <tbody>\n",
       "    <tr>\n",
       "      <th>0</th>\n",
       "      <td>6336692</td>\n",
       "      <td>Turns out 2021 is just a bizarre and unprecede...</td>\n",
       "      <td>What is climate change?</td>\n",
       "      <td>3</td>\n",
       "    </tr>\n",
       "    <tr>\n",
       "      <th>1</th>\n",
       "      <td>6342800</td>\n",
       "      <td>Turns out 2021 is just a bizarre and unprecede...</td>\n",
       "      <td>What is climate change?</td>\n",
       "      <td>3</td>\n",
       "    </tr>\n",
       "    <tr>\n",
       "      <th>2</th>\n",
       "      <td>6736086</td>\n",
       "      <td>About to be homeless what advice can you give?...</td>\n",
       "      <td>What is climate change?</td>\n",
       "      <td>1</td>\n",
       "    </tr>\n",
       "    <tr>\n",
       "      <th>3</th>\n",
       "      <td>6841548</td>\n",
       "      <td>What was something someone did that instantly ...</td>\n",
       "      <td>What is climate change?</td>\n",
       "      <td>1</td>\n",
       "    </tr>\n",
       "    <tr>\n",
       "      <th>4</th>\n",
       "      <td>7682157</td>\n",
       "      <td>If 2021 is as good as 2020 was bad, what will ...</td>\n",
       "      <td>What is climate change?</td>\n",
       "      <td>1</td>\n",
       "    </tr>\n",
       "    <tr>\n",
       "      <th>...</th>\n",
       "      <td>...</td>\n",
       "      <td>...</td>\n",
       "      <td>...</td>\n",
       "      <td>...</td>\n",
       "    </tr>\n",
       "    <tr>\n",
       "      <th>195</th>\n",
       "      <td>7525908</td>\n",
       "      <td>Non Americans what is way better in your count...</td>\n",
       "      <td>What are the health benefits of meditation?</td>\n",
       "      <td>1</td>\n",
       "    </tr>\n",
       "    <tr>\n",
       "      <th>196</th>\n",
       "      <td>8498325</td>\n",
       "      <td>What’s the biggest scam we all just accept?</td>\n",
       "      <td>What are the health benefits of meditation?</td>\n",
       "      <td>1</td>\n",
       "    </tr>\n",
       "    <tr>\n",
       "      <th>197</th>\n",
       "      <td>8498949</td>\n",
       "      <td>What’s the biggest scam we all just accept?</td>\n",
       "      <td>What are the health benefits of meditation?</td>\n",
       "      <td>1</td>\n",
       "    </tr>\n",
       "    <tr>\n",
       "      <th>198</th>\n",
       "      <td>8590466</td>\n",
       "      <td>What should be taken more seriously that peopl...</td>\n",
       "      <td>What are the health benefits of meditation?</td>\n",
       "      <td>1</td>\n",
       "    </tr>\n",
       "    <tr>\n",
       "      <th>199</th>\n",
       "      <td>9421423</td>\n",
       "      <td>What thing did you always take for granted bec...</td>\n",
       "      <td>What are the health benefits of meditation?</td>\n",
       "      <td>1</td>\n",
       "    </tr>\n",
       "  </tbody>\n",
       "</table>\n",
       "<p>200 rows × 4 columns</p>\n",
       "</div>"
      ],
      "text/plain": [
       "       docid                                              query  \\\n",
       "0    6336692  Turns out 2021 is just a bizarre and unprecede...   \n",
       "1    6342800  Turns out 2021 is just a bizarre and unprecede...   \n",
       "2    6736086  About to be homeless what advice can you give?...   \n",
       "3    6841548  What was something someone did that instantly ...   \n",
       "4    7682157  If 2021 is as good as 2020 was bad, what will ...   \n",
       "..       ...                                                ...   \n",
       "195  7525908  Non Americans what is way better in your count...   \n",
       "196  8498325        What’s the biggest scam we all just accept?   \n",
       "197  8498949        What’s the biggest scam we all just accept?   \n",
       "198  8590466  What should be taken more seriously that peopl...   \n",
       "199  9421423  What thing did you always take for granted bec...   \n",
       "\n",
       "                                      query_used  rel  \n",
       "0                        What is climate change?    3  \n",
       "1                        What is climate change?    3  \n",
       "2                        What is climate change?    1  \n",
       "3                        What is climate change?    1  \n",
       "4                        What is climate change?    1  \n",
       "..                                           ...  ...  \n",
       "195  What are the health benefits of meditation?    1  \n",
       "196  What are the health benefits of meditation?    1  \n",
       "197  What are the health benefits of meditation?    1  \n",
       "198  What are the health benefits of meditation?    1  \n",
       "199  What are the health benefits of meditation?    1  \n",
       "\n",
       "[200 rows x 4 columns]"
      ]
     },
     "execution_count": 47,
     "metadata": {},
     "output_type": "execute_result"
    }
   ],
   "source": [
    "rel_df1"
   ]
  },
  {
   "cell_type": "code",
   "execution_count": 64,
   "id": "12412c15-396f-4047-8df7-468dc796d790",
   "metadata": {},
   "outputs": [],
   "source": [
    "rel_df1 = rel_df1[['query_used', 'docid','rel']]"
   ]
  },
  {
   "cell_type": "code",
   "execution_count": 65,
   "id": "3f484f08-914b-4dd6-aedf-420357a08721",
   "metadata": {},
   "outputs": [],
   "source": [
    "rel_df1 = rel_df1.copy()\n",
    "rel_df1.rename(columns={'query_used': 'query'}, inplace=True)"
   ]
  },
  {
   "cell_type": "code",
   "execution_count": 66,
   "id": "93ddd097-d1eb-4fc5-b766-2f3d2741ad3d",
   "metadata": {},
   "outputs": [
    {
     "data": {
      "text/html": [
       "<div>\n",
       "<style scoped>\n",
       "    .dataframe tbody tr th:only-of-type {\n",
       "        vertical-align: middle;\n",
       "    }\n",
       "\n",
       "    .dataframe tbody tr th {\n",
       "        vertical-align: top;\n",
       "    }\n",
       "\n",
       "    .dataframe thead th {\n",
       "        text-align: right;\n",
       "    }\n",
       "</style>\n",
       "<table border=\"1\" class=\"dataframe\">\n",
       "  <thead>\n",
       "    <tr style=\"text-align: right;\">\n",
       "      <th></th>\n",
       "      <th>query</th>\n",
       "      <th>docid</th>\n",
       "      <th>rel</th>\n",
       "    </tr>\n",
       "  </thead>\n",
       "  <tbody>\n",
       "    <tr>\n",
       "      <th>0</th>\n",
       "      <td>What is climate change?</td>\n",
       "      <td>6336692</td>\n",
       "      <td>3</td>\n",
       "    </tr>\n",
       "    <tr>\n",
       "      <th>1</th>\n",
       "      <td>What is climate change?</td>\n",
       "      <td>6342800</td>\n",
       "      <td>3</td>\n",
       "    </tr>\n",
       "    <tr>\n",
       "      <th>2</th>\n",
       "      <td>What is climate change?</td>\n",
       "      <td>6736086</td>\n",
       "      <td>1</td>\n",
       "    </tr>\n",
       "    <tr>\n",
       "      <th>3</th>\n",
       "      <td>What is climate change?</td>\n",
       "      <td>6841548</td>\n",
       "      <td>1</td>\n",
       "    </tr>\n",
       "    <tr>\n",
       "      <th>4</th>\n",
       "      <td>What is climate change?</td>\n",
       "      <td>7682157</td>\n",
       "      <td>1</td>\n",
       "    </tr>\n",
       "    <tr>\n",
       "      <th>...</th>\n",
       "      <td>...</td>\n",
       "      <td>...</td>\n",
       "      <td>...</td>\n",
       "    </tr>\n",
       "    <tr>\n",
       "      <th>195</th>\n",
       "      <td>What are the health benefits of meditation?</td>\n",
       "      <td>7525908</td>\n",
       "      <td>1</td>\n",
       "    </tr>\n",
       "    <tr>\n",
       "      <th>196</th>\n",
       "      <td>What are the health benefits of meditation?</td>\n",
       "      <td>8498325</td>\n",
       "      <td>1</td>\n",
       "    </tr>\n",
       "    <tr>\n",
       "      <th>197</th>\n",
       "      <td>What are the health benefits of meditation?</td>\n",
       "      <td>8498949</td>\n",
       "      <td>1</td>\n",
       "    </tr>\n",
       "    <tr>\n",
       "      <th>198</th>\n",
       "      <td>What are the health benefits of meditation?</td>\n",
       "      <td>8590466</td>\n",
       "      <td>1</td>\n",
       "    </tr>\n",
       "    <tr>\n",
       "      <th>199</th>\n",
       "      <td>What are the health benefits of meditation?</td>\n",
       "      <td>9421423</td>\n",
       "      <td>1</td>\n",
       "    </tr>\n",
       "  </tbody>\n",
       "</table>\n",
       "<p>200 rows × 3 columns</p>\n",
       "</div>"
      ],
      "text/plain": [
       "                                           query    docid  rel\n",
       "0                        What is climate change?  6336692    3\n",
       "1                        What is climate change?  6342800    3\n",
       "2                        What is climate change?  6736086    1\n",
       "3                        What is climate change?  6841548    1\n",
       "4                        What is climate change?  7682157    1\n",
       "..                                           ...      ...  ...\n",
       "195  What are the health benefits of meditation?  7525908    1\n",
       "196  What are the health benefits of meditation?  8498325    1\n",
       "197  What are the health benefits of meditation?  8498949    1\n",
       "198  What are the health benefits of meditation?  8590466    1\n",
       "199  What are the health benefits of meditation?  9421423    1\n",
       "\n",
       "[200 rows x 3 columns]"
      ]
     },
     "execution_count": 66,
     "metadata": {},
     "output_type": "execute_result"
    }
   ],
   "source": [
    "rel_df1"
   ]
  },
  {
   "cell_type": "code",
   "execution_count": 48,
   "id": "732954f1-a5d1-47fc-97a9-89f6f3db3d8a",
   "metadata": {},
   "outputs": [],
   "source": [
    "rel_df2 = pd.read_csv('data/12_2_BM25_baseline_output_rel_score.csv')"
   ]
  },
  {
   "cell_type": "code",
   "execution_count": null,
   "id": "5c5f571e-8b25-477b-9f96-2a77eebe92f8",
   "metadata": {},
   "outputs": [],
   "source": [
    "rel_df2 = rel_df2[['query_used','docid','rel']]"
   ]
  },
  {
   "cell_type": "code",
   "execution_count": 61,
   "id": "45cd1f63-c629-41c9-85e8-a65d00677329",
   "metadata": {},
   "outputs": [],
   "source": [
    "rel_df2 = rel_df2.copy()\n",
    "rel_df2.rename(columns={'query_used': 'query'}, inplace=True)\n"
   ]
  },
  {
   "cell_type": "code",
   "execution_count": 50,
   "id": "ed23ce5b-68c8-4f2f-a09b-12c519a5c4ca",
   "metadata": {},
   "outputs": [],
   "source": [
    "rel_df3 = pd.read_csv('data/Rahat_BM25.xlsx - merged_BM25.csv')"
   ]
  },
  {
   "cell_type": "code",
   "execution_count": 56,
   "id": "8a905bd5-3d23-4064-acf0-07a6950317bb",
   "metadata": {},
   "outputs": [
    {
     "data": {
      "text/html": [
       "<div>\n",
       "<style scoped>\n",
       "    .dataframe tbody tr th:only-of-type {\n",
       "        vertical-align: middle;\n",
       "    }\n",
       "\n",
       "    .dataframe tbody tr th {\n",
       "        vertical-align: top;\n",
       "    }\n",
       "\n",
       "    .dataframe thead th {\n",
       "        text-align: right;\n",
       "    }\n",
       "</style>\n",
       "<table border=\"1\" class=\"dataframe\">\n",
       "  <thead>\n",
       "    <tr style=\"text-align: right;\">\n",
       "      <th></th>\n",
       "      <th>query</th>\n",
       "      <th>docid</th>\n",
       "      <th>text</th>\n",
       "      <th>rel</th>\n",
       "    </tr>\n",
       "  </thead>\n",
       "  <tbody>\n",
       "    <tr>\n",
       "      <th>0</th>\n",
       "      <td>What's your secret talent?</td>\n",
       "      <td>6345564</td>\n",
       "      <td>Great artist with great talent</td>\n",
       "      <td>5</td>\n",
       "    </tr>\n",
       "    <tr>\n",
       "      <th>1</th>\n",
       "      <td>What's your secret talent?</td>\n",
       "      <td>6003596</td>\n",
       "      <td>Hardwork takes over when talent doens't work h...</td>\n",
       "      <td>1</td>\n",
       "    </tr>\n",
       "    <tr>\n",
       "      <th>2</th>\n",
       "      <td>What's your secret talent?</td>\n",
       "      <td>4205318</td>\n",
       "      <td>The Secret</td>\n",
       "      <td>1</td>\n",
       "    </tr>\n",
       "    <tr>\n",
       "      <th>3</th>\n",
       "      <td>What's your secret talent?</td>\n",
       "      <td>9058116</td>\n",
       "      <td>Top secret.</td>\n",
       "      <td>1</td>\n",
       "    </tr>\n",
       "    <tr>\n",
       "      <th>4</th>\n",
       "      <td>What's your secret talent?</td>\n",
       "      <td>6927606</td>\n",
       "      <td>My secret recepies.</td>\n",
       "      <td>2</td>\n",
       "    </tr>\n",
       "    <tr>\n",
       "      <th>...</th>\n",
       "      <td>...</td>\n",
       "      <td>...</td>\n",
       "      <td>...</td>\n",
       "      <td>...</td>\n",
       "    </tr>\n",
       "    <tr>\n",
       "      <th>195</th>\n",
       "      <td>What's something you wish was no longer taboo ...</td>\n",
       "      <td>5318544</td>\n",
       "      <td>I think its more, people are afraid to use tha...</td>\n",
       "      <td>5</td>\n",
       "    </tr>\n",
       "    <tr>\n",
       "      <th>196</th>\n",
       "      <td>What's something you wish was no longer taboo ...</td>\n",
       "      <td>1648351</td>\n",
       "      <td>As a man, society.</td>\n",
       "      <td>4</td>\n",
       "    </tr>\n",
       "    <tr>\n",
       "      <th>197</th>\n",
       "      <td>What's something you wish was no longer taboo ...</td>\n",
       "      <td>3831299</td>\n",
       "      <td>Stillborn - Black Label Society</td>\n",
       "      <td>4</td>\n",
       "    </tr>\n",
       "    <tr>\n",
       "      <th>198</th>\n",
       "      <td>What's something you wish was no longer taboo ...</td>\n",
       "      <td>7858982</td>\n",
       "      <td>The scum of society.</td>\n",
       "      <td>4</td>\n",
       "    </tr>\n",
       "    <tr>\n",
       "      <th>199</th>\n",
       "      <td>What's something you wish was no longer taboo ...</td>\n",
       "      <td>9312890</td>\n",
       "      <td>A plague to society.</td>\n",
       "      <td>4</td>\n",
       "    </tr>\n",
       "  </tbody>\n",
       "</table>\n",
       "<p>200 rows × 4 columns</p>\n",
       "</div>"
      ],
      "text/plain": [
       "                                                 query    docid  \\\n",
       "0                           What's your secret talent?  6345564   \n",
       "1                           What's your secret talent?  6003596   \n",
       "2                           What's your secret talent?  4205318   \n",
       "3                           What's your secret talent?  9058116   \n",
       "4                           What's your secret talent?  6927606   \n",
       "..                                                 ...      ...   \n",
       "195  What's something you wish was no longer taboo ...  5318544   \n",
       "196  What's something you wish was no longer taboo ...  1648351   \n",
       "197  What's something you wish was no longer taboo ...  3831299   \n",
       "198  What's something you wish was no longer taboo ...  7858982   \n",
       "199  What's something you wish was no longer taboo ...  9312890   \n",
       "\n",
       "                                                  text  rel  \n",
       "0                       Great artist with great talent    5  \n",
       "1    Hardwork takes over when talent doens't work h...    1  \n",
       "2                                           The Secret    1  \n",
       "3                                          Top secret.    1  \n",
       "4                                  My secret recepies.    2  \n",
       "..                                                 ...  ...  \n",
       "195  I think its more, people are afraid to use tha...    5  \n",
       "196                                 As a man, society.    4  \n",
       "197                    Stillborn - Black Label Society    4  \n",
       "198                               The scum of society.    4  \n",
       "199                               A plague to society.    4  \n",
       "\n",
       "[200 rows x 4 columns]"
      ]
     },
     "execution_count": 56,
     "metadata": {},
     "output_type": "execute_result"
    }
   ],
   "source": [
    "rel_df3"
   ]
  },
  {
   "cell_type": "code",
   "execution_count": 52,
   "id": "fb5bf0ee-9312-4636-84d8-861644c4c742",
   "metadata": {},
   "outputs": [
    {
     "data": {
      "text/plain": [
       "Index(['query', 'docid', 'score', 'text', 'rel'], dtype='object')"
      ]
     },
     "execution_count": 52,
     "metadata": {},
     "output_type": "execute_result"
    }
   ],
   "source": [
    "rel_df3.columns"
   ]
  },
  {
   "cell_type": "code",
   "execution_count": 67,
   "id": "17f44fa8-bc29-4525-95a0-d110c236badf",
   "metadata": {},
   "outputs": [],
   "source": [
    "rel_df3 = rel_df3[['query', 'docid','rel']]"
   ]
  },
  {
   "cell_type": "code",
   "execution_count": 70,
   "id": "5b1b0e30-d457-49ce-856b-6499553a08e6",
   "metadata": {},
   "outputs": [],
   "source": [
    "rel_df = pd.concat([rel_df1, rel_df2, rel_df3], axis=0, ignore_index=True)"
   ]
  },
  {
   "cell_type": "code",
   "execution_count": 75,
   "id": "fc9c2103-988a-4b0c-a574-0eb37e17d1a8",
   "metadata": {},
   "outputs": [],
   "source": [
    "rel_df.to_csv(\"data/relevance_data\")"
   ]
  },
  {
   "cell_type": "code",
   "execution_count": 82,
   "id": "62bb8222-bb84-44c3-9e60-fb8ef6aca914",
   "metadata": {},
   "outputs": [],
   "source": [
    "rel_df1.to_csv(\"data/relevance_data_Samer\")"
   ]
  },
  {
   "cell_type": "code",
   "execution_count": 83,
   "id": "878d3b78-3cd8-4b1f-9655-a427cf312681",
   "metadata": {},
   "outputs": [],
   "source": [
    "rel_df2.to_csv(\"data/relevance_data_Saira\")"
   ]
  },
  {
   "cell_type": "code",
   "execution_count": 84,
   "id": "5c68902d-5622-44d5-ab78-53e9eb34a0c4",
   "metadata": {},
   "outputs": [],
   "source": [
    "rel_df3.to_csv(\"data/relevance_data_Rahat\")"
   ]
  },
  {
   "cell_type": "code",
   "execution_count": 85,
   "id": "954323f0-2cbe-451f-b539-fa6bfa5e4b6b",
   "metadata": {},
   "outputs": [
    {
     "name": "stdout",
     "output_type": "stream",
     "text": [
      "Average MAP Score: 0.0000\n",
      "Average NDCG Score: 0.9605\n"
     ]
    }
   ],
   "source": [
    "relevance_data_filename = \"data/relevance_data_Samer\"\n",
    "scores = run_relevance_tests(relevance_data_filename, ranker)\n",
    "print(f\"Average MAP Score: {scores['map']:.4f}\")\n",
    "print(f\"Average NDCG Score: {scores['ndcg']:.4f}\")"
   ]
  },
  {
   "cell_type": "code",
   "execution_count": 86,
   "id": "9d8cf768-ce5f-43ff-89a1-649af54d07a7",
   "metadata": {},
   "outputs": [
    {
     "name": "stdout",
     "output_type": "stream",
     "text": [
      "Average MAP Score: 0.4040\n",
      "Average NDCG Score: 0.8551\n"
     ]
    }
   ],
   "source": [
    "relevance_data_filename = \"data/relevance_data_Saira\"\n",
    "scores = run_relevance_tests(relevance_data_filename, ranker)\n",
    "print(f\"Average MAP Score: {scores['map']:.4f}\")\n",
    "print(f\"Average NDCG Score: {scores['ndcg']:.4f}\")"
   ]
  },
  {
   "cell_type": "code",
   "execution_count": 87,
   "id": "e48b9bc9-4b04-4e5e-b656-31e4e8eb39f4",
   "metadata": {},
   "outputs": [
    {
     "name": "stdout",
     "output_type": "stream",
     "text": [
      "Average MAP Score: 0.6751\n",
      "Average NDCG Score: 0.8639\n"
     ]
    }
   ],
   "source": [
    "relevance_data_filename = \"data/relevance_data_Rahat\"\n",
    "scores = run_relevance_tests(relevance_data_filename, ranker)\n",
    "print(f\"Average MAP Score: {scores['map']:.4f}\")\n",
    "print(f\"Average NDCG Score: {scores['ndcg']:.4f}\")"
   ]
  },
  {
   "cell_type": "code",
   "execution_count": 88,
   "id": "1a3558d1-2a1a-4ea6-9f62-3ac145192f78",
   "metadata": {},
   "outputs": [
    {
     "name": "stdout",
     "output_type": "stream",
     "text": [
      "Average MAP Score: 0.3658\n",
      "Average NDCG Score: 0.8920\n"
     ]
    }
   ],
   "source": [
    "relevance_data_filename = \"data/relevance_data\"\n",
    "scores = run_relevance_tests(relevance_data_filename, ranker)\n",
    "print(f\"Average MAP Score: {scores['map']:.4f}\")\n",
    "print(f\"Average NDCG Score: {scores['ndcg']:.4f}\")"
   ]
  },
  {
   "cell_type": "code",
   "execution_count": null,
   "id": "e284df7f-a436-4244-89b4-bf5794701fd5",
   "metadata": {},
   "outputs": [],
   "source": []
  }
 ],
 "metadata": {
  "colab": {
   "provenance": []
  },
  "kernelspec": {
   "display_name": "Python 3 (ipykernel)",
   "language": "python",
   "name": "python3"
  },
  "language_info": {
   "codemirror_mode": {
    "name": "ipython",
    "version": 3
   },
   "file_extension": ".py",
   "mimetype": "text/x-python",
   "name": "python",
   "nbconvert_exporter": "python",
   "pygments_lexer": "ipython3",
   "version": "3.11.7"
  }
 },
 "nbformat": 4,
 "nbformat_minor": 5
}
