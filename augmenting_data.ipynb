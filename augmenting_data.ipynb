{
 "cells": [
  {
   "cell_type": "code",
   "execution_count": 10,
   "id": "86c996f2",
   "metadata": {
    "id": "86c996f2"
   },
   "outputs": [],
   "source": [
    "#pip install datasets\n"
   ]
  },
  {
   "cell_type": "code",
   "execution_count": 1,
   "id": "0f10ad11",
   "metadata": {},
   "outputs": [],
   "source": [
    "from document_preprocessor import RegexTokenizer\n",
    "from indexing import Indexer, IndexType\n",
    "from ranker import *\n",
    "import pandas as pd\n",
    "from tqdm import tqdm\n",
    "from relevance import *\n",
    "from collections import defaultdict\n",
    "import csv\n",
    "import gzip\n",
    "import jsonlines\n",
    "import json\n",
    "from collections import defaultdict\n",
    "import os\n",
    "from tqdm import tqdm\n",
    "from doc_augmentor import *\n",
    "import numpy as np"
   ]
  },
  {
   "cell_type": "code",
   "execution_count": 9,
   "id": "c3087c95-6659-450a-818c-dcc66ed30737",
   "metadata": {},
   "outputs": [
    {
     "name": "stdout",
     "output_type": "stream",
     "text": [
      "First 5 documents have been written to 'data/test_documents.jsonl'\n"
     ]
    }
   ],
   "source": [
    "import pandas as pd\n",
    "import jsonlines\n",
    "\n",
    "dataset = pd.read_json('data/documents_full_contents.jsonl', lines=True)\n",
    "first_5_documents = dataset.head(100000)\n",
    "\n",
    "with jsonlines.open('data/test_content_documents.jsonl', mode='w') as writer:\n",
    "    for _, row in first_5_documents.iterrows():\n",
    "        writer.write(row.to_dict())\n",
    "\n",
    "print(\"First 5 documents have been written to 'data/test_documents.jsonl'\")"
   ]
  },
  {
   "cell_type": "code",
   "execution_count": 3,
   "id": "a865c35d",
   "metadata": {},
   "outputs": [],
   "source": [
    "dataset = pd.read_json ('data/documents_full_contents.jsonl', lines=True)"
   ]
  },
  {
   "cell_type": "code",
   "execution_count": 4,
   "id": "7fcc8beb",
   "metadata": {},
   "outputs": [
    {
     "data": {
      "text/html": [
       "<div>\n",
       "<style scoped>\n",
       "    .dataframe tbody tr th:only-of-type {\n",
       "        vertical-align: middle;\n",
       "    }\n",
       "\n",
       "    .dataframe tbody tr th {\n",
       "        vertical-align: top;\n",
       "    }\n",
       "\n",
       "    .dataframe thead th {\n",
       "        text-align: right;\n",
       "    }\n",
       "</style>\n",
       "<table border=\"1\" class=\"dataframe\">\n",
       "  <thead>\n",
       "    <tr style=\"text-align: right;\">\n",
       "      <th></th>\n",
       "      <th>docid</th>\n",
       "      <th>content</th>\n",
       "    </tr>\n",
       "  </thead>\n",
       "  <tbody>\n",
       "    <tr>\n",
       "      <th>0</th>\n",
       "      <td>99</td>\n",
       "      <td>What is your favourite non-English saying, and...</td>\n",
       "    </tr>\n",
       "    <tr>\n",
       "      <th>1</th>\n",
       "      <td>240</td>\n",
       "      <td>What would you do if someone offers u a free a...</td>\n",
       "    </tr>\n",
       "    <tr>\n",
       "      <th>2</th>\n",
       "      <td>409</td>\n",
       "      <td>To all airplane riders, what is the most scare...</td>\n",
       "    </tr>\n",
       "    <tr>\n",
       "      <th>3</th>\n",
       "      <td>461</td>\n",
       "      <td>What lie do you tell routinely? Why? \"My favor...</td>\n",
       "    </tr>\n",
       "    <tr>\n",
       "      <th>4</th>\n",
       "      <td>626</td>\n",
       "      <td>What is a history fact that is so stupid it do...</td>\n",
       "    </tr>\n",
       "    <tr>\n",
       "      <th>...</th>\n",
       "      <td>...</td>\n",
       "      <td>...</td>\n",
       "    </tr>\n",
       "    <tr>\n",
       "      <th>99995</th>\n",
       "      <td>9999430</td>\n",
       "      <td>People of Reddit, what's the spookiest thing t...</td>\n",
       "    </tr>\n",
       "    <tr>\n",
       "      <th>99996</th>\n",
       "      <td>9999615</td>\n",
       "      <td>What makes a girl/woman a \"slut\"? Double stand...</td>\n",
       "    </tr>\n",
       "    <tr>\n",
       "      <th>99997</th>\n",
       "      <td>9999766</td>\n",
       "      <td>What are examples of society being too politic...</td>\n",
       "    </tr>\n",
       "    <tr>\n",
       "      <th>99998</th>\n",
       "      <td>9999847</td>\n",
       "      <td>Why is America fatter than it was before? **PL...</td>\n",
       "    </tr>\n",
       "    <tr>\n",
       "      <th>99999</th>\n",
       "      <td>9999858</td>\n",
       "      <td>What is your most favourite video game? pokemo...</td>\n",
       "    </tr>\n",
       "  </tbody>\n",
       "</table>\n",
       "<p>100000 rows × 2 columns</p>\n",
       "</div>"
      ],
      "text/plain": [
       "         docid                                            content\n",
       "0           99  What is your favourite non-English saying, and...\n",
       "1          240  What would you do if someone offers u a free a...\n",
       "2          409  To all airplane riders, what is the most scare...\n",
       "3          461  What lie do you tell routinely? Why? \"My favor...\n",
       "4          626  What is a history fact that is so stupid it do...\n",
       "...        ...                                                ...\n",
       "99995  9999430  People of Reddit, what's the spookiest thing t...\n",
       "99996  9999615  What makes a girl/woman a \"slut\"? Double stand...\n",
       "99997  9999766  What are examples of society being too politic...\n",
       "99998  9999847  Why is America fatter than it was before? **PL...\n",
       "99999  9999858  What is your most favourite video game? pokemo...\n",
       "\n",
       "[100000 rows x 2 columns]"
      ]
     },
     "execution_count": 4,
     "metadata": {},
     "output_type": "execute_result"
    }
   ],
   "source": [
    "dataset"
   ]
  },
  {
   "cell_type": "code",
   "execution_count": 11,
   "id": "eb791c78",
   "metadata": {},
   "outputs": [],
   "source": [
    "docid = list(dataset['docid'])"
   ]
  },
  {
   "cell_type": "code",
   "execution_count": null,
   "id": "f078d325",
   "metadata": {},
   "outputs": [],
   "source": []
  },
  {
   "cell_type": "code",
   "execution_count": 10,
   "id": "910d1433",
   "metadata": {},
   "outputs": [
    {
     "name": "stderr",
     "output_type": "stream",
     "text": [
      "Augmenting documents: 100%|██████████| 100000/100000 [00:00<00:00, 542515.15it/s]\n"
     ]
    },
    {
     "name": "stdout",
     "output_type": "stream",
     "text": [
      "Augmented data has been written to data/augmented_data_100K.jsonl\n",
      "Augmented data has been written to data/augmented_data_100K.jsonl\n"
     ]
    }
   ],
   "source": [
    "input_file = 'data/test_content_documents.jsonl'\n",
    "doc_to_post = read_jsonl(input_file)\n",
    "\n",
    "augmentor = DocumentAugmentor(doc_to_post)\n",
    "docids = list(doc_to_post.keys())\n",
    "augmented_documents = augmentor.augment_docs(docids)\n",
    "\n",
    "output_file = 'data/augmented_data_100K.jsonl'\n",
    "write_jsonl(augmented_documents, output_file)\n",
    "print(f\"Augmented data has been written to {output_file}\")\n"
   ]
  },
  {
   "cell_type": "code",
   "execution_count": null,
   "id": "5a200d82-7664-43b1-80fa-bd61e1c7351a",
   "metadata": {},
   "outputs": [],
   "source": []
  },
  {
   "cell_type": "code",
   "execution_count": null,
   "id": "6a4d45ef-fc6d-4bb8-a37c-289188ddbbb4",
   "metadata": {},
   "outputs": [],
   "source": []
  }
 ],
 "metadata": {
  "colab": {
   "provenance": []
  },
  "kernelspec": {
   "display_name": "Python 3 (ipykernel)",
   "language": "python",
   "name": "python3"
  },
  "language_info": {
   "codemirror_mode": {
    "name": "ipython",
    "version": 3
   },
   "file_extension": ".py",
   "mimetype": "text/x-python",
   "name": "python",
   "nbconvert_exporter": "python",
   "pygments_lexer": "ipython3",
   "version": "3.11.7"
  }
 },
 "nbformat": 4,
 "nbformat_minor": 5
}
